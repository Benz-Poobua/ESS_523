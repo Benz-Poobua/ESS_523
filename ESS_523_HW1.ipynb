{
 "cells": [
  {
   "cell_type": "code",
   "execution_count": 1,
   "metadata": {},
   "outputs": [],
   "source": [
    "import pandas as pd\n",
    "import matplotlib.pyplot as plt\n",
    "import numpy as np"
   ]
  },
  {
   "cell_type": "markdown",
   "metadata": {},
   "source": [
    "### 1. Data downloading"
   ]
  },
  {
   "cell_type": "code",
   "execution_count": 2,
   "metadata": {},
   "outputs": [
    {
     "name": "stdout",
     "output_type": "stream",
     "text": [
      "Data converted to CSV successfully. Converted data saved to GNSS_data.csv\n"
     ]
    }
   ],
   "source": [
    "import csv\n",
    "import requests\n",
    "from io import StringIO\n",
    "\n",
    "# URL of the input file\n",
    "input_url = \"https://raw.githubusercontent.com/Benz-Poobua/ESS_523/main/HW1_GNSS_data.txt\"\n",
    "\n",
    "# Output file (CSV)\n",
    "output_file = \"GNSS_data.csv\"\n",
    "\n",
    "# Fetching data from URL\n",
    "response = requests.get(input_url)\n",
    "\n",
    "# Checking if request was successful\n",
    "if response.status_code == 200:\n",
    "    # Read the data from the response\n",
    "    data = response.text\n",
    "\n",
    "    # Read the data and write it to CSV\n",
    "    with open(output_file, 'w', newline='') as outfile:\n",
    "        # Create a CSV writer object\n",
    "        writer = csv.writer(outfile)\n",
    "        \n",
    "        # Write the header row\n",
    "        writer.writerow([\"x_position(km)\", \"Surface_velocity(mm/yr)\", \"uncertainty(mm/yr)\"])\n",
    "        \n",
    "        # Skip the header lines\n",
    "        data_lines = data.strip().split('\\n')[3:]\n",
    "        \n",
    "        # Write the data rows\n",
    "        for line in data_lines:\n",
    "            # Split the line based on whitespace\n",
    "            columns = line.split()\n",
    "            # Write the columns to CSV\n",
    "            writer.writerow(columns)\n",
    "\n",
    "    print(\"Data converted to CSV successfully. Converted data saved to\", output_file)\n",
    "else:\n",
    "    print(\"Failed to retrieve data from the URL.\")\n"
   ]
  },
  {
   "cell_type": "code",
   "execution_count": 3,
   "metadata": {},
   "outputs": [],
   "source": [
    "GNSS_data = pd.read_csv('https://raw.githubusercontent.com/Benz-Poobua/ESS_523/main/GNSS_data.csv')"
   ]
  },
  {
   "cell_type": "code",
   "execution_count": 4,
   "metadata": {},
   "outputs": [
    {
     "data": {
      "text/html": [
       "<div>\n",
       "<style scoped>\n",
       "    .dataframe tbody tr th:only-of-type {\n",
       "        vertical-align: middle;\n",
       "    }\n",
       "\n",
       "    .dataframe tbody tr th {\n",
       "        vertical-align: top;\n",
       "    }\n",
       "\n",
       "    .dataframe thead th {\n",
       "        text-align: right;\n",
       "    }\n",
       "</style>\n",
       "<table border=\"1\" class=\"dataframe\">\n",
       "  <thead>\n",
       "    <tr style=\"text-align: right;\">\n",
       "      <th></th>\n",
       "      <th>x_position(km)</th>\n",
       "      <th>Surface_velocity(mm/yr)</th>\n",
       "      <th>uncertainty(mm/yr)</th>\n",
       "    </tr>\n",
       "  </thead>\n",
       "  <tbody>\n",
       "    <tr>\n",
       "      <th>0</th>\n",
       "      <td>5.0</td>\n",
       "      <td>-26.8789</td>\n",
       "      <td>1.5905</td>\n",
       "    </tr>\n",
       "    <tr>\n",
       "      <th>1</th>\n",
       "      <td>20.0</td>\n",
       "      <td>-27.1257</td>\n",
       "      <td>0.8008</td>\n",
       "    </tr>\n",
       "    <tr>\n",
       "      <th>2</th>\n",
       "      <td>25.0</td>\n",
       "      <td>-27.4999</td>\n",
       "      <td>1.1438</td>\n",
       "    </tr>\n",
       "    <tr>\n",
       "      <th>3</th>\n",
       "      <td>70.0</td>\n",
       "      <td>-14.9070</td>\n",
       "      <td>2.6112</td>\n",
       "    </tr>\n",
       "    <tr>\n",
       "      <th>4</th>\n",
       "      <td>105.0</td>\n",
       "      <td>-5.9737</td>\n",
       "      <td>0.8839</td>\n",
       "    </tr>\n",
       "    <tr>\n",
       "      <th>5</th>\n",
       "      <td>185.0</td>\n",
       "      <td>18.3194</td>\n",
       "      <td>0.7195</td>\n",
       "    </tr>\n",
       "    <tr>\n",
       "      <th>6</th>\n",
       "      <td>200.0</td>\n",
       "      <td>19.0408</td>\n",
       "      <td>2.0715</td>\n",
       "    </tr>\n",
       "    <tr>\n",
       "      <th>7</th>\n",
       "      <td>208.0</td>\n",
       "      <td>21.6918</td>\n",
       "      <td>1.3580</td>\n",
       "    </tr>\n",
       "    <tr>\n",
       "      <th>8</th>\n",
       "      <td>220.0</td>\n",
       "      <td>25.0392</td>\n",
       "      <td>1.0329</td>\n",
       "    </tr>\n",
       "    <tr>\n",
       "      <th>9</th>\n",
       "      <td>290.0</td>\n",
       "      <td>28.7211</td>\n",
       "      <td>0.8648</td>\n",
       "    </tr>\n",
       "  </tbody>\n",
       "</table>\n",
       "</div>"
      ],
      "text/plain": [
       "   x_position(km)  Surface_velocity(mm/yr)  uncertainty(mm/yr)\n",
       "0             5.0                 -26.8789              1.5905\n",
       "1            20.0                 -27.1257              0.8008\n",
       "2            25.0                 -27.4999              1.1438\n",
       "3            70.0                 -14.9070              2.6112\n",
       "4           105.0                  -5.9737              0.8839\n",
       "5           185.0                  18.3194              0.7195\n",
       "6           200.0                  19.0408              2.0715\n",
       "7           208.0                  21.6918              1.3580\n",
       "8           220.0                  25.0392              1.0329\n",
       "9           290.0                  28.7211              0.8648"
      ]
     },
     "execution_count": 4,
     "metadata": {},
     "output_type": "execute_result"
    }
   ],
   "source": [
    "GNSS_data"
   ]
  },
  {
   "cell_type": "markdown",
   "metadata": {},
   "source": [
    "### 2. Data visualization"
   ]
  },
  {
   "cell_type": "code",
   "execution_count": 8,
   "metadata": {},
   "outputs": [
    {
     "data": {
      "image/png": "[encoded data removed]",
      "text/plain": [
       "<Figure size 640x480 with 1 Axes>"
      ]
     },
     "metadata": {},
     "output_type": "display_data"
    }
   ],
   "source": [
    "plt.plot(GNSS_data['x_position(km)'], GNSS_data['Surface_velocity(mm/yr)'], '*b')\n",
    "plt.errorbar(GNSS_data['x_position(km)'],\n",
    "             GNSS_data['Surface_velocity(mm/yr)'],\n",
    "             yerr=GNSS_data['uncertainty(mm/yr)'], #y error bar\n",
    "             fmt='none', # 'none' means no connecting lines\n",
    "             ecolor='red', # color of the error bars\n",
    "             capsize=5) # size of the caps on error bars\n",
    "plt.xlabel('x position (km)')\n",
    "plt.ylabel('surface velocity (mm/yr)')\n",
    "plt.grid()\n",
    "\n",
    "# Draw vertical red lines at specific x-axis positions\n",
    "x_positions = [60, 110, 140, 150, 210]\n",
    "for x in x_positions:\n",
    "    plt.axvline(x, color='green', linestyle='dashed')\n",
    "\n",
    "# Create a dummy plot for legend\n",
    "plt.plot([], [], color='green', linestyle='dashed', label='Fault')\n",
    "\n",
    "# Display legend\n",
    "plt.legend()\n",
    "\n",
    "plt.show()"
   ]
  },
  {
   "cell_type": "markdown",
   "metadata": {},
   "source": [
    "### 3. Model equation"
   ]
  },
  {
   "cell_type": "markdown",
   "metadata": {},
   "source": [
    "- $v(x_{\\text{gnss}}, x_{\\text{fault}}) = \\frac{s}{\\pi} \\cdot \\arctan \\left( \\frac{x_{\\text{gnss}} - x_{\\text{fault}}}{D} \\right)$\n",
    "- Goal is to solve for $s$, which is the interseismic slip rate\n",
    "\n"
   ]
  },
  {
   "cell_type": "code",
   "execution_count": 9,
   "metadata": {},
   "outputs": [
    {
     "name": "stdout",
     "output_type": "stream",
     "text": [
      "[[-26.8789]\n",
      " [-27.1257]\n",
      " [-27.4999]\n",
      " [-14.907 ]\n",
      " [ -5.9737]\n",
      " [ 18.3194]\n",
      " [ 19.0408]\n",
      " [ 21.6918]\n",
      " [ 25.0392]\n",
      " [ 28.7211]]\n"
     ]
    }
   ],
   "source": [
    "# data\n",
    "\n",
    "d = GNSS_data['Surface_velocity(mm/yr)']\n",
    "\n",
    "# Convert to NumPy array and reshape\n",
    "d_matrix = d.values.reshape(-1, 1)\n",
    "\n",
    "print(d_matrix)\n"
   ]
  },
  {
   "cell_type": "code",
   "execution_count": 10,
   "metadata": {},
   "outputs": [
    {
     "name": "stdout",
     "output_type": "stream",
     "text": [
      "[[-1.39094283 -1.47584462 -1.53377621 -1.46771472 -1.51232646]\n",
      " [-1.32581766 -1.46013911 -1.52915375 -1.45591972 -1.50772221]\n",
      " [-1.29249667 -1.45368758 -1.52734543 -1.4513674  -1.5060222 ]\n",
      " [ 0.78539816 -1.32581766 -1.49948886 -1.38544838 -1.48529103]\n",
      " [ 1.35212738 -0.46364761 -1.42889927 -1.24904577 -1.45700432]\n",
      " [ 1.49096634  1.43824479  1.46013911  1.16590454 -1.12327635]\n",
      " [ 1.49948886  1.46013911  1.48765509  1.27933953 -0.69473828]\n",
      " [ 1.5033313   1.46910748  1.497399    1.31772067 -0.16514868]\n",
      " [ 1.50837752  1.48013644  1.50837752  1.35970299  0.69473828]\n",
      " [ 1.52734543  1.51529782  1.53747533  1.46406065  1.42190638]]\n"
     ]
    }
   ],
   "source": [
    "x_gnss = GNSS_data['x_position(km)']\n",
    "x_fault = [60, 110, 140, 150, 210]\n",
    "locking_depth = [10, 10, 5, 15, 12]\n",
    "\n",
    "# Initialize a 10x5 matrix filled with zeros\n",
    "G = np.zeros((10, 5))\n",
    "\n",
    "# Iterate over each element in the matrix\n",
    "for i in range(10):\n",
    "    for j in range(5):\n",
    "        G[i, j] = np.arctan((x_gnss[i] - x_fault[j]) / locking_depth[j])\n",
    "\n",
    "print(G)\n"
   ]
  },
  {
   "cell_type": "markdown",
   "metadata": {},
   "source": [
    "### 4. SVD"
   ]
  },
  {
   "cell_type": "markdown",
   "metadata": {},
   "source": [
    "- Use SVD\n",
    "- Construct conpact form from $G = U S V^{T}$\n",
    "- We use $ G^{-g} = V_p S_p^{-1} U_p^{-1}$\n"
   ]
  },
  {
   "cell_type": "code",
   "execution_count": 12,
   "metadata": {},
   "outputs": [],
   "source": [
    "from scipy import linalg"
   ]
  },
  {
   "cell_type": "code",
   "execution_count": 13,
   "metadata": {},
   "outputs": [],
   "source": [
    "U, S, VT = np.linalg.svd(G, full_matrices=True)"
   ]
  },
  {
   "cell_type": "code",
   "execution_count": 43,
   "metadata": {},
   "outputs": [
    {
     "name": "stdout",
     "output_type": "stream",
     "text": [
      "(10, 5)\n",
      "(10, 10)\n",
      "(5,)\n",
      "(5, 5)\n"
     ]
    }
   ],
   "source": [
    "print(G.shape)\n",
    "print(U.shape)\n",
    "print(S.shape)\n",
    "print(VT.shape)"
   ]
  },
  {
   "cell_type": "code",
   "execution_count": 48,
   "metadata": {},
   "outputs": [],
   "source": [
    "S_2d = np.zeros((G.shape[0], G.shape[1]))\n",
    "S_2d[:min(G.shape[0], G.shape[1]), :min(G.shape[0], G.shape[1])] = np.diag(S)"
   ]
  },
  {
   "cell_type": "code",
   "execution_count": 54,
   "metadata": {},
   "outputs": [
    {
     "name": "stdout",
     "output_type": "stream",
     "text": [
      "[[8.76420345 0.         0.         0.         0.        ]\n",
      " [0.         3.75481577 0.         0.         0.        ]\n",
      " [0.         0.         1.96925538 0.         0.        ]\n",
      " [0.         0.         0.         0.39819278 0.        ]\n",
      " [0.         0.         0.         0.         0.03719986]\n",
      " [0.         0.         0.         0.         0.        ]\n",
      " [0.         0.         0.         0.         0.        ]\n",
      " [0.         0.         0.         0.         0.        ]\n",
      " [0.         0.         0.         0.         0.        ]\n",
      " [0.         0.         0.         0.         0.        ]]\n",
      "(10, 5)\n"
     ]
    }
   ],
   "source": [
    "print(S_2d)\n",
    "print(S_2d.shape)"
   ]
  },
  {
   "cell_type": "markdown",
   "metadata": {},
   "source": [
    "We then construct S_p, which is a square (p*p) diagonal matrix by delete the last sigular value closest to zero."
   ]
  },
  {
   "cell_type": "code",
   "execution_count": 76,
   "metadata": {},
   "outputs": [],
   "source": [
    "S_p = np.delete(np.delete(S_2d, slice(4, 10), axis=0), -1, axis=1) # delete rows 4 to 9 and then the last column\n",
    "U_p = U[:, :4] # keep all rows and first to fourth columns\n",
    "VT_p = VT[:4, :] "
   ]
  },
  {
   "cell_type": "code",
   "execution_count": 75,
   "metadata": {},
   "outputs": [
    {
     "name": "stdout",
     "output_type": "stream",
     "text": [
      "(10, 4)\n",
      "(4, 4)\n",
      "(4, 5)\n"
     ]
    }
   ],
   "source": [
    "print(U_p.shape)\n",
    "print(S_p.shape)\n",
    "print(VT_p.shape)"
   ]
  },
  {
   "cell_type": "markdown",
   "metadata": {},
   "source": [
    "### 5. Generalized Inverse"
   ]
  },
  {
   "cell_type": "markdown",
   "metadata": {},
   "source": [
    "We calculate G^-g from $ G^{-g} = V_p S_p^{-1} U_p^{-1}$"
   ]
  },
  {
   "cell_type": "code",
   "execution_count": 106,
   "metadata": {},
   "outputs": [
    {
     "name": "stdout",
     "output_type": "stream",
     "text": [
      "(5, 4)\n",
      "(4, 4)\n",
      "(4, 10)\n"
     ]
    }
   ],
   "source": [
    "V_p = VT_p.T # the first V is transposed \n",
    "S_p_i = np.linalg.inv(S_p) # do inverse\n",
    "UT_p = U_p.T # do transpose\n",
    "\n",
    "print(V_p.shape)\n",
    "print(S_p_i.shape)\n",
    "print(UT_p.shape)"
   ]
  },
  {
   "cell_type": "code",
   "execution_count": 108,
   "metadata": {},
   "outputs": [
    {
     "name": "stdout",
     "output_type": "stream",
     "text": [
      "(5, 10)\n"
     ]
    }
   ],
   "source": [
    "G_g = np.dot(V_p, np.dot(S_p_i, UT_p))\n",
    "print(G_g.shape)"
   ]
  },
  {
   "cell_type": "code",
   "execution_count": 109,
   "metadata": {},
   "outputs": [
    {
     "name": "stdout",
     "output_type": "stream",
     "text": [
      "[[-1.11029873e-01 -9.85705736e-02 -9.12445030e-02  5.47188055e-01\n",
      "  -6.56025933e-02 -4.48629419e-02 -2.73236342e-03  2.74468034e-02\n",
      "   7.20463661e-02  1.15729162e-01]\n",
      " [ 9.52536302e-02  7.33442781e-02  5.82176586e-02 -1.64213866e+00\n",
      "   1.34660360e+00  5.52590250e-02 -4.78353005e-02 -5.36897621e-02\n",
      "  -3.87035441e-02 -6.44570720e-02]\n",
      " [-1.25976049e-02 -5.78234082e-03 -4.36576902e-04  6.93843971e-01\n",
      "  -7.97255305e-01  9.63199008e-02  1.23337697e-01  9.16557765e-02\n",
      "   2.71030295e-02 -5.35229295e-03]\n",
      " [-1.35721345e-02 -9.44331805e-03 -6.16178226e-03  4.25775466e-01\n",
      "  -5.18582972e-01  6.20610816e-02  8.00003263e-02  6.07010219e-02\n",
      "   2.10094224e-02  1.63175692e-03]\n",
      " [-1.15156172e-01 -1.11866561e-01 -1.10223889e-01 -1.44984416e-02\n",
      "   5.24817518e-02 -2.14612030e-01 -1.64439815e-01 -9.51537424e-02\n",
      "   1.88109073e-02  1.11215288e-01]]\n"
     ]
    }
   ],
   "source": [
    "print(G_g)"
   ]
  },
  {
   "cell_type": "markdown",
   "metadata": {},
   "source": [
    "### 6. Optimal model parameter"
   ]
  },
  {
   "cell_type": "markdown",
   "metadata": {},
   "source": [
    "We use $m^{est} = G^{-g} d$"
   ]
  },
  {
   "cell_type": "code",
   "execution_count": 127,
   "metadata": {},
   "outputs": [
    {
     "name": "stdout",
     "output_type": "stream",
     "text": [
      "[5.25166347 6.40082598 1.552962   2.09106468 3.60204422]\n"
     ]
    }
   ],
   "source": [
    "d_matrix = d.values.reshape(-1,1) # pandas series to numpy array and then reshape to a column matrix\n",
    "m = np.dot(G_g, d)\n",
    "print(m)"
   ]
  },
  {
   "cell_type": "markdown",
   "metadata": {},
   "source": [
    "Note that from the model, $G$ is unitless, so $m^{est}$ and $d$ have the same unit (mm/yr)"
   ]
  },
  {
   "cell_type": "markdown",
   "metadata": {},
   "source": [
    "### 7. Covariance matrix"
   ]
  },
  {
   "cell_type": "markdown",
   "metadata": {},
   "source": [
    "We note that $ Cov(m^{est}) = \\sigma^2 V_p S_p^{-2} V_p^T $, and we refer $\\sigma$ from uncertainty (mm/yr)"
   ]
  },
  {
   "cell_type": "code",
   "execution_count": 139,
   "metadata": {},
   "outputs": [],
   "source": [
    "sigma_sq = (GNSS_data['uncertainty(mm/yr)']**2).values.reshape(-1,1)\n",
    "S_p_neg2 = S_p_i **2"
   ]
  },
  {
   "cell_type": "code",
   "execution_count": 140,
   "metadata": {},
   "outputs": [
    {
     "name": "stdout",
     "output_type": "stream",
     "text": [
      "(10, 1)\n",
      "(5, 4)\n",
      "(4, 4)\n",
      "(4, 5)\n"
     ]
    }
   ],
   "source": [
    "print(sigma_sq.shape)\n",
    "print(V_p.shape)\n",
    "print(S_p_neg2.shape)\n",
    "print(VT_p.shape)"
   ]
  },
  {
   "cell_type": "code",
   "execution_count": 143,
   "metadata": {},
   "outputs": [
    {
     "ename": "ValueError",
     "evalue": "operands could not be broadcast together with shapes (10,1) (5,5) ",
     "output_type": "error",
     "traceback": [
      "\u001b[0;31m---------------------------------------------------------------------------\u001b[0m",
      "\u001b[0;31mValueError\u001b[0m                                Traceback (most recent call last)",
      "Cell \u001b[0;32mIn[143], line 1\u001b[0m\n\u001b[0;32m----> 1\u001b[0m Cov_m \u001b[39m=\u001b[39m sigma_sq \u001b[39m*\u001b[39m np\u001b[39m.\u001b[39mdot(np\u001b[39m.\u001b[39mdot(V_p, (S_p_neg2)), VT_p)\n",
      "\u001b[0;31mValueError\u001b[0m: operands could not be broadcast together with shapes (10,1) (5,5) "
     ]
    }
   ],
   "source": [
    "Cov_m = sigma_sq * np.dot(np.dot(V_p, (S_p_neg2)), VT_p)"
   ]
  },
  {
   "cell_type": "markdown",
   "metadata": {},
   "source": [
    "### 8. "
   ]
  }
 ],
 "metadata": {
  "kernelspec": {
   "display_name": "Python 3",
   "language": "python",
   "name": "python3"
  },
  "language_info": {
   "codemirror_mode": {
    "name": "ipython",
    "version": 3
   },
   "file_extension": ".py",
   "mimetype": "text/x-python",
   "name": "python",
   "nbconvert_exporter": "python",
   "pygments_lexer": "ipython3",
   "version": "3.11.4"
  },
  "orig_nbformat": 4
 },
 "nbformat": 4,
 "nbformat_minor": 2
}
