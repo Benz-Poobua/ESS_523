{
 "cells": [
  {
   "cell_type": "code",
   "execution_count": 1,
   "metadata": {},
   "outputs": [],
   "source": [
    "import pandas as pd\n",
    "import matplotlib.pyplot as plt"
   ]
  },
  {
   "cell_type": "code",
   "execution_count": 14,
   "metadata": {},
   "outputs": [
    {
     "name": "stdout",
     "output_type": "stream",
     "text": [
      "Data converted to CSV successfully. Converted data saved to converted_data.csv\n"
     ]
    }
   ],
   "source": [
    "import csv\n",
    "import requests\n",
    "from io import StringIO\n",
    "\n",
    "# URL of the input file\n",
    "input_url = \"https://raw.githubusercontent.com/Benz-Poobua/ESS_523/main/HW1_GNSS_data.txt\"\n",
    "\n",
    "# Output file (CSV)\n",
    "output_file = \"GNSS_data.csv\"\n",
    "\n",
    "# Fetching data from URL\n",
    "response = requests.get(input_url)\n",
    "\n",
    "# Checking if request was successful\n",
    "if response.status_code == 200:\n",
    "    # Read the data from the response\n",
    "    data = response.text\n",
    "\n",
    "    # Read the data and write it to CSV\n",
    "    with open(output_file, 'w', newline='') as outfile:\n",
    "        # Create a CSV writer object\n",
    "        writer = csv.writer(outfile)\n",
    "        \n",
    "        # Write the header row\n",
    "        writer.writerow([\"x_position(km)\", \"Surface_velocity(mm/yr)\", \"uncertainty(mm/yr)\"])\n",
    "        \n",
    "        # Skip the header lines\n",
    "        data_lines = data.strip().split('\\n')[3:]\n",
    "        \n",
    "        # Write the data rows\n",
    "        for line in data_lines:\n",
    "            # Split the line based on whitespace\n",
    "            columns = line.split()\n",
    "            # Write the columns to CSV\n",
    "            writer.writerow(columns)\n",
    "\n",
    "    print(\"Data converted to CSV successfully. Converted data saved to\", output_file)\n",
    "else:\n",
    "    print(\"Failed to retrieve data from the URL.\")\n"
   ]
  },
  {
   "cell_type": "code",
   "execution_count": null,
   "metadata": {},
   "outputs": [],
   "source": []
  }
 ],
 "metadata": {
  "kernelspec": {
   "display_name": "Python 3",
   "language": "python",
   "name": "python3"
  },
  "language_info": {
   "codemirror_mode": {
    "name": "ipython",
    "version": 3
   },
   "file_extension": ".py",
   "mimetype": "text/x-python",
   "name": "python",
   "nbconvert_exporter": "python",
   "pygments_lexer": "ipython3",
   "version": "3.11.5"
  },
  "orig_nbformat": 4
 },
 "nbformat": 4,
 "nbformat_minor": 2
}
