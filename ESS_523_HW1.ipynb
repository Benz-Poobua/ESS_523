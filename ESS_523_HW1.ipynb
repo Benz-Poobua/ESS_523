{
 "cells": [
  {
   "cell_type": "code",
   "execution_count": 24,
   "metadata": {},
   "outputs": [],
   "source": [
    "import pandas as pd\n",
    "import matplotlib.pyplot as plt\n",
    "import numpy as np"
   ]
  },
  {
   "cell_type": "markdown",
   "metadata": {},
   "source": [
    "## Data downloading"
   ]
  },
  {
   "cell_type": "code",
   "execution_count": 14,
   "metadata": {},
   "outputs": [
    {
     "name": "stdout",
     "output_type": "stream",
     "text": [
      "Data converted to CSV successfully. Converted data saved to converted_data.csv\n"
     ]
    }
   ],
   "source": [
    "import csv\n",
    "import requests\n",
    "from io import StringIO\n",
    "\n",
    "# URL of the input file\n",
    "input_url = \"https://raw.githubusercontent.com/Benz-Poobua/ESS_523/main/HW1_GNSS_data.txt\"\n",
    "\n",
    "# Output file (CSV)\n",
    "output_file = \"GNSS_data.csv\"\n",
    "\n",
    "# Fetching data from URL\n",
    "response = requests.get(input_url)\n",
    "\n",
    "# Checking if request was successful\n",
    "if response.status_code == 200:\n",
    "    # Read the data from the response\n",
    "    data = response.text\n",
    "\n",
    "    # Read the data and write it to CSV\n",
    "    with open(output_file, 'w', newline='') as outfile:\n",
    "        # Create a CSV writer object\n",
    "        writer = csv.writer(outfile)\n",
    "        \n",
    "        # Write the header row\n",
    "        writer.writerow([\"x_position(km)\", \"Surface_velocity(mm/yr)\", \"uncertainty(mm/yr)\"])\n",
    "        \n",
    "        # Skip the header lines\n",
    "        data_lines = data.strip().split('\\n')[3:]\n",
    "        \n",
    "        # Write the data rows\n",
    "        for line in data_lines:\n",
    "            # Split the line based on whitespace\n",
    "            columns = line.split()\n",
    "            # Write the columns to CSV\n",
    "            writer.writerow(columns)\n",
    "\n",
    "    print(\"Data converted to CSV successfully. Converted data saved to\", output_file)\n",
    "else:\n",
    "    print(\"Failed to retrieve data from the URL.\")\n"
   ]
  },
  {
   "cell_type": "code",
   "execution_count": 2,
   "metadata": {},
   "outputs": [],
   "source": [
    "GNSS_data = pd.read_csv('https://raw.githubusercontent.com/Benz-Poobua/ESS_523/main/GNSS_data.csv')"
   ]
  },
  {
   "cell_type": "code",
   "execution_count": 7,
   "metadata": {},
   "outputs": [
    {
     "data": {
      "text/html": [
       "<div>\n",
       "<style scoped>\n",
       "    .dataframe tbody tr th:only-of-type {\n",
       "        vertical-align: middle;\n",
       "    }\n",
       "\n",
       "    .dataframe tbody tr th {\n",
       "        vertical-align: top;\n",
       "    }\n",
       "\n",
       "    .dataframe thead th {\n",
       "        text-align: right;\n",
       "    }\n",
       "</style>\n",
       "<table border=\"1\" class=\"dataframe\">\n",
       "  <thead>\n",
       "    <tr style=\"text-align: right;\">\n",
       "      <th></th>\n",
       "      <th>x_position(km)</th>\n",
       "      <th>Surface_velocity(mm/yr)</th>\n",
       "      <th>uncertainty(mm/yr)</th>\n",
       "    </tr>\n",
       "  </thead>\n",
       "  <tbody>\n",
       "    <tr>\n",
       "      <th>0</th>\n",
       "      <td>5.0</td>\n",
       "      <td>-26.8789</td>\n",
       "      <td>1.5905</td>\n",
       "    </tr>\n",
       "    <tr>\n",
       "      <th>1</th>\n",
       "      <td>20.0</td>\n",
       "      <td>-27.1257</td>\n",
       "      <td>0.8008</td>\n",
       "    </tr>\n",
       "    <tr>\n",
       "      <th>2</th>\n",
       "      <td>25.0</td>\n",
       "      <td>-27.4999</td>\n",
       "      <td>1.1438</td>\n",
       "    </tr>\n",
       "    <tr>\n",
       "      <th>3</th>\n",
       "      <td>70.0</td>\n",
       "      <td>-14.9070</td>\n",
       "      <td>2.6112</td>\n",
       "    </tr>\n",
       "    <tr>\n",
       "      <th>4</th>\n",
       "      <td>105.0</td>\n",
       "      <td>-5.9737</td>\n",
       "      <td>0.8839</td>\n",
       "    </tr>\n",
       "    <tr>\n",
       "      <th>5</th>\n",
       "      <td>185.0</td>\n",
       "      <td>18.3194</td>\n",
       "      <td>0.7195</td>\n",
       "    </tr>\n",
       "    <tr>\n",
       "      <th>6</th>\n",
       "      <td>200.0</td>\n",
       "      <td>19.0408</td>\n",
       "      <td>2.0715</td>\n",
       "    </tr>\n",
       "    <tr>\n",
       "      <th>7</th>\n",
       "      <td>208.0</td>\n",
       "      <td>21.6918</td>\n",
       "      <td>1.3580</td>\n",
       "    </tr>\n",
       "    <tr>\n",
       "      <th>8</th>\n",
       "      <td>220.0</td>\n",
       "      <td>25.0392</td>\n",
       "      <td>1.0329</td>\n",
       "    </tr>\n",
       "    <tr>\n",
       "      <th>9</th>\n",
       "      <td>290.0</td>\n",
       "      <td>28.7211</td>\n",
       "      <td>0.8648</td>\n",
       "    </tr>\n",
       "  </tbody>\n",
       "</table>\n",
       "</div>"
      ],
      "text/plain": [
       "   x_position(km)  Surface_velocity(mm/yr)  uncertainty(mm/yr)\n",
       "0             5.0                 -26.8789              1.5905\n",
       "1            20.0                 -27.1257              0.8008\n",
       "2            25.0                 -27.4999              1.1438\n",
       "3            70.0                 -14.9070              2.6112\n",
       "4           105.0                  -5.9737              0.8839\n",
       "5           185.0                  18.3194              0.7195\n",
       "6           200.0                  19.0408              2.0715\n",
       "7           208.0                  21.6918              1.3580\n",
       "8           220.0                  25.0392              1.0329\n",
       "9           290.0                  28.7211              0.8648"
      ]
     },
     "execution_count": 7,
     "metadata": {},
     "output_type": "execute_result"
    }
   ],
   "source": [
    "GNSS_data"
   ]
  },
  {
   "cell_type": "code",
   "execution_count": 16,
   "metadata": {},
   "outputs": [
    {
     "data": {
      "image/png": "[encoded data removed]",
      "text/plain": [
       "<Figure size 640x480 with 1 Axes>"
      ]
     },
     "metadata": {},
     "output_type": "display_data"
    }
   ],
   "source": [
    "plt.plot(GNSS_data['x_position(km)'], GNSS_data['Surface_velocity(mm/yr)'], '*b')\n",
    "plt.xlabel('x position (km)')\n",
    "plt.ylabel('surface velocity (mm/yr)')\n",
    "plt.grid()\n",
    "\n",
    "# Draw vertical red lines at specific x-axis positions\n",
    "x_positions = [60, 110, 140, 150, 210]\n",
    "for x in x_positions:\n",
    "    plt.axvline(x, color='red', linestyle='dashed')\n",
    "\n",
    "# Create a dummy plot for legend\n",
    "plt.plot([], [], color='red', linestyle='dashed', label='Fault')\n",
    "\n",
    "# Display legend\n",
    "plt.legend()\n",
    "\n",
    "plt.show()"
   ]
  },
  {
   "cell_type": "markdown",
   "metadata": {},
   "source": [
    "## Model equation"
   ]
  },
  {
   "cell_type": "code",
   "execution_count": 27,
   "metadata": {},
   "outputs": [
    {
     "name": "stdout",
     "output_type": "stream",
     "text": [
      "[[-26.8789]\n",
      " [-27.1257]\n",
      " [-27.4999]\n",
      " [-14.907 ]\n",
      " [ -5.9737]\n",
      " [ 18.3194]\n",
      " [ 19.0408]\n",
      " [ 21.6918]\n",
      " [ 25.0392]\n",
      " [ 28.7211]]\n"
     ]
    }
   ],
   "source": [
    "# data\n",
    "\n",
    "d = GNSS_data['Surface_velocity(mm/yr)']\n",
    "\n",
    "# Convert to NumPy array and reshape\n",
    "d_matrix = d.values.reshape(-1, 1)\n",
    "\n",
    "print(d_matrix)\n"
   ]
  },
  {
   "cell_type": "code",
   "execution_count": 36,
   "metadata": {},
   "outputs": [
    {
     "name": "stdout",
     "output_type": "stream",
     "text": [
      "[[-1.39094283 -1.47584462 -1.53377621 -1.46771472 -1.51232646]\n",
      " [-1.32581766 -1.46013911 -1.52915375 -1.45591972 -1.50772221]\n",
      " [-1.29249667 -1.45368758 -1.52734543 -1.4513674  -1.5060222 ]\n",
      " [ 0.78539816 -1.32581766 -1.49948886 -1.38544838 -1.48529103]\n",
      " [ 1.35212738 -0.46364761 -1.42889927 -1.24904577 -1.45700432]\n",
      " [ 1.49096634  1.43824479  1.46013911  1.16590454 -1.12327635]\n",
      " [ 1.49948886  1.46013911  1.48765509  1.27933953 -0.69473828]\n",
      " [ 1.5033313   1.46910748  1.497399    1.31772067 -0.16514868]\n",
      " [ 1.50837752  1.48013644  1.50837752  1.35970299  0.69473828]\n",
      " [ 1.52734543  1.51529782  1.53747533  1.46406065  1.42190638]]\n"
     ]
    }
   ],
   "source": [
    "x_gnss = GNSS_data['x_position(km)']\n",
    "x_fault = [60, 110, 140, 150, 210]\n",
    "locking_depth = [10, 10, 5, 15, 12]\n",
    "\n",
    "# Initialize a 10x5 matrix filled with zeros\n",
    "G = np.zeros((10, 5))\n",
    "\n",
    "# Iterate over each element in the matrix\n",
    "for i in range(10):\n",
    "    for j in range(5):\n",
    "        G[i, j] = np.arctan((x_gnss[i] - x_fault[j]) / locking_depth[j])\n",
    "\n",
    "print(G)\n"
   ]
  },
  {
   "cell_type": "code",
   "execution_count": null,
   "metadata": {},
   "outputs": [],
   "source": []
  }
 ],
 "metadata": {
  "kernelspec": {
   "display_name": "Python 3",
   "language": "python",
   "name": "python3"
  },
  "language_info": {
   "codemirror_mode": {
    "name": "ipython",
    "version": 3
   },
   "file_extension": ".py",
   "mimetype": "text/x-python",
   "name": "python",
   "nbconvert_exporter": "python",
   "pygments_lexer": "ipython3",
   "version": "3.11.4"
  },
  "orig_nbformat": 4
 },
 "nbformat": 4,
 "nbformat_minor": 2
}
